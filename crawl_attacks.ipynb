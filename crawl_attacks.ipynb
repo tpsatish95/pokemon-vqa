{
 "cells": [
  {
   "cell_type": "code",
   "execution_count": 2,
   "metadata": {},
   "outputs": [],
   "source": [
    "import pickle\n",
    "import numpy as np"
   ]
  },
  {
   "cell_type": "code",
   "execution_count": 3,
   "metadata": {},
   "outputs": [],
   "source": [
    "def load_obj(name):\n",
    "    with open(name + '.pkl', 'rb') as f:\n",
    "        return pickle.load(f)"
   ]
  },
  {
   "cell_type": "code",
   "execution_count": 4,
   "metadata": {},
   "outputs": [],
   "source": [
    "def save_obj(obj, name):\n",
    "    with open(name + '.pkl', 'wb') as f:\n",
    "        return pickle.dump(obj, f)"
   ]
  },
  {
   "cell_type": "code",
   "execution_count": 92,
   "metadata": {},
   "outputs": [],
   "source": [
    "l = np.array([i.lower().replace(\" \",\"\") for i in sorted(load_obj(\"pokemon_attacks_classifier/Models/Classify_Attacks/kanto_attacks_list\"))])\n",
    "attack_map = load_obj(\"pokemon_attacks_classifier/Models/Classify_Attacks/pokemon_attack_map\")"
   ]
  },
  {
   "cell_type": "code",
   "execution_count": 93,
   "metadata": {},
   "outputs": [
    {
     "name": "stdout",
     "output_type": "stream",
     "text": [
      "{'leer', 'ember', 'rage', 'slash', 'growl', 'flamethrower', 'fire spin', 'scratch'}\n"
     ]
    }
   ],
   "source": [
    "print(attack_map[\"Charmander\"])"
   ]
  },
  {
   "cell_type": "code",
   "execution_count": 94,
   "metadata": {},
   "outputs": [
    {
     "name": "stdout",
     "output_type": "stream",
     "text": [
      "1009\n"
     ]
    }
   ],
   "source": [
    "# generate pokemon attack pairs\n",
    "pokemon_attack_pairs = [\" \".join([pokemon, attack])for pokemon in attack_map for attack in attack_map[pokemon]]\n",
    "print(len(pokemon_attack_pairs))"
   ]
  },
  {
   "cell_type": "code",
   "execution_count": 95,
   "metadata": {},
   "outputs": [
    {
     "name": "stdout",
     "output_type": "stream",
     "text": [
      "https://archives.bulbagarden.net/wiki/Special:ListFiles?limit=100000&ilshowall=1&user=&ilsearch=parasect+growth\n"
     ]
    }
   ],
   "source": [
    "base_url = \"https://archives.bulbagarden.net/wiki/Special:ListFiles?limit=100000&ilshowall=1&user=&ilsearch=\"\n",
    "query_urls = [base_url+(pair.lower()).replace(\" \", \"+\") for pair in pokemon_attack_pairs]\n",
    "print(query_urls[2])"
   ]
  },
  {
   "cell_type": "code",
   "execution_count": 7,
   "metadata": {},
   "outputs": [],
   "source": [
    "# Try 1\n",
    "# import requests\n",
    "# import multiprocessing\n",
    "\n",
    "# def internet_resource_getter(urls):\n",
    "#     session = requests.Session()\n",
    "#     stuff_got = []\n",
    "#     for url in urls:\n",
    "#         response = session.get(str(url))\n",
    "#         stuff_got.append(response.json())\n",
    "\n",
    "#     return stuff_got\n",
    "\n",
    "# pool = multiprocessing.Pool(processes=3)\n",
    "# pool_outputs = pool.map(internet_resource_getter, query_urls)\n",
    "# pool.close()\n",
    "# pool.join()\n",
    "# print(pool_outputs)"
   ]
  },
  {
   "cell_type": "code",
   "execution_count": 8,
   "metadata": {},
   "outputs": [],
   "source": [
    "# Try 3\n",
    "# from requests_threads import AsyncSession\n",
    "\n",
    "# session = AsyncSession(n=100)\n",
    "\n",
    "# async def _main():\n",
    "#     rs = []\n",
    "#     for url in query_urls[:10]:\n",
    "#         rs.append(await session.get(url))\n",
    "#     print(rs)\n",
    "\n",
    "# if __name__ == '__main__':\n",
    "#     session.run(_main)"
   ]
  },
  {
   "cell_type": "code",
   "execution_count": 9,
   "metadata": {},
   "outputs": [],
   "source": [
    "# Try 2\n",
    "# import grequests\n",
    "# rs = (grequests.get(u) for u in query_urls)\n",
    "# responses = grequests.map(rs)"
   ]
  },
  {
   "cell_type": "code",
   "execution_count": 134,
   "metadata": {},
   "outputs": [],
   "source": [
    "# Try 2 with Retry\n",
    "import requests\n",
    "from requests.adapters import HTTPAdapter\n",
    "from urllib3.util.retry import Retry\n",
    "\n",
    "header = {'User-Agent': 'Mozilla/5.0 (Macintosh; Intel Mac OS X 10_10_1) AppleWebKit/537.36 (KHTML, like Gecko) Chrome/39.0.2171.95 Safari/537.36'}\n",
    "s = requests.Session()\n",
    "retries = Retry(total=5, backoff_factor=0.2, status_forcelist=[500, 502, 503, 504], raise_on_redirect=True,\n",
    "                raise_on_status=True)\n",
    "s.mount('http://', HTTPAdapter(max_retries=retries))\n",
    "s.mount('https://', HTTPAdapter(max_retries=retries))\n",
    "reqs = (grequests.get(url, session=s, headers=header) for url in query_urls)\n",
    "responses = grequests.map(reqs)\n",
    "\n",
    "pair_all_links = []\n",
    "for resp in responses:\n",
    "    temp = []\n",
    "    soup = BeautifulSoup(resp.text)\n",
    "    for link in soup.findAll('a', href=True, text='file'):\n",
    "        temp.append(\"https:\"+link[\"href\"])\n",
    "    pair_all_links.append(temp)\n",
    "#     print(\"https:\"+link[\"href\"])"
   ]
  },
  {
   "cell_type": "code",
   "execution_count": 135,
   "metadata": {},
   "outputs": [
    {
     "name": "stdout",
     "output_type": "stream",
     "text": [
      "1511\n"
     ]
    }
   ],
   "source": [
    "print(sum([len(i) for i in pair_all_links if i]))"
   ]
  },
  {
   "cell_type": "code",
   "execution_count": 35,
   "metadata": {},
   "outputs": [],
   "source": [
    "# import csv\n",
    "# r_htmls = []\n",
    "# for r in responses:\n",
    "#     if r:\n",
    "#         r_htmls.append(r.text)\n",
    "#     else:\n",
    "#         r_htmls.append(None)\n",
    "# with open(\"bulbapedia_res.csv\", 'w', newline='\\n') as myfile:\n",
    "#     wr = csv.writer(myfile, quoting=csv.QUOTE_ALL)\n",
    "#     wr.writerow(r_htmls)"
   ]
  },
  {
   "cell_type": "code",
   "execution_count": 34,
   "metadata": {},
   "outputs": [],
   "source": [
    "# responses[0].text"
   ]
  },
  {
   "cell_type": "code",
   "execution_count": 36,
   "metadata": {},
   "outputs": [],
   "source": [
    "# from bs4 import BeautifulSoup\n",
    "\n",
    "# all_links = []\n",
    "# for response in responses:\n",
    "#     pair_wise_links = []\n",
    "#     if response:\n",
    "#         soup = BeautifulSoup(response.text)\n",
    "#         for link in soup.findAll('a', href=True, text='file'):\n",
    "#             pair_wise_links.append(\"https:\"+link[\"href\"])\n",
    "#     all_links.append(pair_wise_links)"
   ]
  },
  {
   "cell_type": "code",
   "execution_count": 136,
   "metadata": {},
   "outputs": [
    {
     "data": {
      "text/plain": [
       "['https://archives.bulbagarden.net/media/upload/d/d3/Cassandra_Parasect_Spore.png',\n",
       " 'https://archives.bulbagarden.net/media/upload/d/d3/Cassandra_Parasect_Spore.png']"
      ]
     },
     "execution_count": 136,
     "metadata": {},
     "output_type": "execute_result"
    }
   ],
   "source": [
    "pair_all_links[0]"
   ]
  },
  {
   "cell_type": "code",
   "execution_count": 137,
   "metadata": {},
   "outputs": [],
   "source": [
    "temp_pairs = [(pokemon, attack) for pokemon in attack_map for attack in attack_map[pokemon]]\n",
    "pokemon_attack_urls_map = [{\"pokemon\": pokemon, \"attack\": attack, \"bulba_url\": bulba_url, \"urls\": urls} for (pokemon, attack), bulba_url, urls in zip(temp_pairs, query_urls, pair_all_links)]"
   ]
  },
  {
   "cell_type": "code",
   "execution_count": 140,
   "metadata": {},
   "outputs": [
    {
     "name": "stdout",
     "output_type": "stream",
     "text": [
      "{'pokemon': 'Parasect', 'attack': 'spore', 'bulba_url': 'https://archives.bulbagarden.net/wiki/Special:ListFiles?limit=100000&ilshowall=1&user=&ilsearch=parasect+spore', 'urls': ['https://archives.bulbagarden.net/media/upload/d/d3/Cassandra_Parasect_Spore.png', 'https://archives.bulbagarden.net/media/upload/d/d3/Cassandra_Parasect_Spore.png']}\n"
     ]
    }
   ],
   "source": [
    "print(pokemon_attack_urls_map[0])\n",
    "save_obj(pokemon_attack_urls_map,\"data/scraped_urls/pokemon_attack_urls_map\")"
   ]
  },
  {
   "cell_type": "code",
   "execution_count": 141,
   "metadata": {},
   "outputs": [],
   "source": [
    "# to see all bulba_urls with no data in it\n",
    "# print([i[\"bulba_url\"] for i in pokemon_attack_urls_map if not i[\"urls\"]])"
   ]
  },
  {
   "cell_type": "code",
   "execution_count": 5,
   "metadata": {},
   "outputs": [
    {
     "name": "stdout",
     "output_type": "stream",
     "text": [
      "1511\n"
     ]
    }
   ],
   "source": [
    "# to count all urls\n",
    "pokemon_attack_urls_map = load_obj(\"data/scraped_urls/pokemon_attack_urls_map\")\n",
    "temp = [i[\"urls\"] for i in pokemon_attack_urls_map if i[\"urls\"]]\n",
    "print(len([i for t in temp for i in t]))"
   ]
  },
  {
   "cell_type": "code",
   "execution_count": 6,
   "metadata": {},
   "outputs": [],
   "source": [
    "import urllib\n",
    "opener = urllib.request.build_opener()\n",
    "opener.addheaders = [('User-agent', 'Mozilla/5.0 (Macintosh; Intel Mac OS X 10_10_1) AppleWebKit/537.36 (KHTML, like Gecko) Chrome/39.0.2171.95 Safari/537.36')]\n",
    "urllib.request.install_opener(opener)\n",
    "\n",
    "image_id = 10000\n",
    "pairs_to_image_map = list()\n",
    "for data in pokemon_attack_urls_map:\n",
    "    for url in data[\"urls\"]:\n",
    "        urllib.request.urlretrieve(url, \"battle_scenes_data/\" + str(image_id) + \".jpg\")\n",
    "        pairs_to_image_map.append({\"pokemon\": data[\"pokemon\"], \"attack\": data[\"attack\"], \"image_id\": image_id})\n",
    "        image_id+=1\n",
    "# save_obj(pairs_to_image_map,\"battle_scenes_data/pairs_to_image_map\")"
   ]
  },
  {
   "cell_type": "code",
   "execution_count": null,
   "metadata": {},
   "outputs": [],
   "source": [
    "# convert RGBA to RGB\n",
    "import os\n",
    "from PIL import Image\n",
    "base_path = \"battle_scenes_data/battle_scenes/\"\n",
    "\n",
    "for file in os.listdir(base_path):\n",
    "    if \".jpg\" in file:\n",
    "        png = Image.open(base_path + file)\n",
    "        png.load() # required for png.split()\n",
    "        if len(png.split()) == 4:\n",
    "            background = Image.new(\"RGB\", png.size, (255, 255, 255))\n",
    "            background.paste(png, mask=png.split()[3]) # 3 is the alpha channel\n",
    "\n",
    "            background.save(base_path + file, 'JPEG', quality=80)\n",
    "            print(file)"
   ]
  },
  {
   "cell_type": "code",
   "execution_count": 72,
   "metadata": {},
   "outputs": [
    {
     "name": "stdout",
     "output_type": "stream",
     "text": [
      "https://archives.bulbagarden.net/wiki/Special:ListFiles?limit=100000&ilshowall=1&user=&ilsearch=aurora+beam\n"
     ]
    }
   ],
   "source": [
    "# now try for only attacks instead of pairs\n",
    "attacks = [i for i in sorted(load_obj(\"pokemon_attacks_classifier/Models/Classify_Attacks/kanto_attacks_list\"))]\n",
    "base_url = \"https://archives.bulbagarden.net/wiki/Special:ListFiles?limit=100000&ilshowall=1&user=&ilsearch=\"\n",
    "attack_query_urls = [base_url+(attack.lower()).replace(\" \", \"+\") for attack in attacks]\n",
    "print(attack_query_urls[5])"
   ]
  },
  {
   "cell_type": "code",
   "execution_count": 86,
   "metadata": {},
   "outputs": [],
   "source": [
    "# import grequests\n",
    "# attack_rs = (grequests.get(u) for u in attack_query_urls)\n",
    "# attack_responses = grequests.map(attack_rs)"
   ]
  },
  {
   "cell_type": "code",
   "execution_count": 114,
   "metadata": {},
   "outputs": [],
   "source": [
    "from bs4 import BeautifulSoup\n",
    "from requests.adapters import HTTPAdapter\n",
    "from urllib3.util.retry import Retry\n",
    "\n",
    "s = requests.Session()\n",
    "header = {'User-Agent': 'Mozilla/5.0 (Macintosh; Intel Mac OS X 10_10_1) AppleWebKit/537.36 (KHTML, like Gecko) Chrome/39.0.2171.95 Safari/537.36'}\n",
    "\n",
    "retries = Retry(total=5, backoff_factor=0.2, status_forcelist=[500, 502, 503, 504], raise_on_redirect=True,\n",
    "                raise_on_status=True)\n",
    "s.mount('http://', HTTPAdapter(max_retries=retries))\n",
    "s.mount('https://', HTTPAdapter(max_retries=retries))\n",
    "\n",
    "reqs = (grequests.get(url, session=s, headers=header) for url in attack_query_urls)\n",
    "\n",
    "all_links = []\n",
    "for response in grequests.imap(reqs, stream=False):\n",
    "    pair_wise_links = []\n",
    "#     response = requests.get(url, headers=header)\n",
    "    if response:\n",
    "        soup = BeautifulSoup(response.text)\n",
    "        for link in soup.findAll('a', href=True, text='file'):\n",
    "            pair_wise_links.append(\"https:\"+link[\"href\"])\n",
    "    all_links.append(pair_wise_links)\n",
    "    if not pair_wise_links:\n",
    "        print(\"Fail\")\n",
    "        print(url)"
   ]
  },
  {
   "cell_type": "code",
   "execution_count": 115,
   "metadata": {},
   "outputs": [
    {
     "name": "stdout",
     "output_type": "stream",
     "text": [
      "https://archives.bulbagarden.net/media/upload/d/d1/Gastro_Acid_PMD_GTI.png\n"
     ]
    }
   ],
   "source": [
    "print(all_links[1][0])"
   ]
  },
  {
   "cell_type": "code",
   "execution_count": 119,
   "metadata": {},
   "outputs": [],
   "source": [
    "attack_urls_map = [{\"attack\": attack, \"bulba_url\": bulba_url, \"urls\": urls} for attack, bulba_url, urls in zip(attacks, attack_query_urls, all_links)]\n",
    "save_obj(attack_urls_map,\"data/scraped_urls/attack_urls_map\")"
   ]
  },
  {
   "cell_type": "code",
   "execution_count": 120,
   "metadata": {},
   "outputs": [
    {
     "data": {
      "text/plain": [
       "'https://archives.bulbagarden.net/media/upload/7/71/Absorb_PMD_GTI.png'"
      ]
     },
     "execution_count": 120,
     "metadata": {},
     "output_type": "execute_result"
    }
   ],
   "source": [
    "attack_urls_map = load_obj(\"data/scraped_urls/attack_urls_map\")\n",
    "attack_urls_map[0][\"urls\"][0]"
   ]
  },
  {
   "cell_type": "code",
   "execution_count": 122,
   "metadata": {},
   "outputs": [
    {
     "name": "stdout",
     "output_type": "stream",
     "text": [
      "14160\n"
     ]
    }
   ],
   "source": [
    "# to see all bulba_urls with no data in it\n",
    "print(sum([len(i[\"urls\"]) for i in attack_urls_map if i[\"urls\"]]))"
   ]
  },
  {
   "cell_type": "code",
   "execution_count": null,
   "metadata": {},
   "outputs": [],
   "source": [
    "# not downloaded the attacks only dataset"
   ]
  }
 ],
 "metadata": {
  "kernelspec": {
   "display_name": "Python 3",
   "language": "python",
   "name": "python3"
  },
  "language_info": {
   "codemirror_mode": {
    "name": "ipython",
    "version": 3
   },
   "file_extension": ".py",
   "mimetype": "text/x-python",
   "name": "python",
   "nbconvert_exporter": "python",
   "pygments_lexer": "ipython3",
   "version": "3.6.5"
  }
 },
 "nbformat": 4,
 "nbformat_minor": 2
}
