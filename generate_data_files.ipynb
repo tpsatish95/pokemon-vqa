{
 "cells": [
  {
   "cell_type": "code",
   "execution_count": 5,
   "metadata": {},
   "outputs": [],
   "source": [
    "import pickle\n",
    "import numpy as np"
   ]
  },
  {
   "cell_type": "code",
   "execution_count": 6,
   "metadata": {},
   "outputs": [],
   "source": [
    "def load_obj(name):\n",
    "    with open(name + '.pkl', 'rb') as f:\n",
    "        return pickle.load(f)"
   ]
  },
  {
   "cell_type": "code",
   "execution_count": 36,
   "metadata": {},
   "outputs": [],
   "source": [
    "# generate QA pairs\n",
    "what_pokemon = [\"What pokemon is there in the image\",\n",
    "                \"What kind of pokemon is there in the picture\",\n",
    "                \"What pokemon can you see in the image\",\n",
    "                \"Can you tell what pokemon you see in this picture\"]\n",
    "\n",
    "what_attack = [\"What attack is being performed by the pokemon\",\n",
    "               \"The pokemon is performing which attack\",\n",
    "               \"What kind of attack is in the picture\",\n",
    "               \"What sort of attack is there in this image\",\n",
    "               \"Can you tell what attack you see in this picture\"]\n",
    "\n",
    "what_type = [\"What type of pokemon is it\",\n",
    "             \"The image contains what type of pokemon\",\n",
    "             \"Can you identify the type of pokemon\",\n",
    "             \"What type of pokemon can you see in this picture\"]\n",
    "\n",
    "is_legendary = [\"Is the pokemon legendary\",\n",
    "                \"The pokemon in the image is legendary or not\",\n",
    "                \"Does the picture contain a legendery pokemon\",\n",
    "                \"Can you spot any powerful legendery pokemons here\"]\n",
    "\n",
    "what_color = [\"What is the color of the pokemon in the image\",\n",
    "               \"What color of pokemon can you spot in this picture\",\n",
    "               \"What color of pokemon do you perceive in this image\",\n",
    "               \"What shading or color can you see in the pokemon\"]\n",
    "\n",
    "all_questions = [what_pokemon, what_attack, what_type, is_legendary, what_color]"
   ]
  },
  {
   "cell_type": "code",
   "execution_count": 74,
   "metadata": {},
   "outputs": [],
   "source": [
    "pairs_to_image_map = load_obj(\"battle_scenes_data/pairs_to_image_map\")"
   ]
  },
  {
   "cell_type": "code",
   "execution_count": 75,
   "metadata": {},
   "outputs": [
    {
     "data": {
      "text/plain": [
       "{'pokemon': 'Ditto', 'attack': 'transform', 'image_id': 10355}"
      ]
     },
     "execution_count": 75,
     "metadata": {},
     "output_type": "execute_result"
    }
   ],
   "source": [
    "pairs_to_image_map[355]"
   ]
  },
  {
   "cell_type": "code",
   "execution_count": 76,
   "metadata": {},
   "outputs": [],
   "source": [
    "pokemon_list = open(\"pokemon_attacks_classifier/Kanto.txt\", \"r\").readlines()\n",
    "name_to_id = dict()\n",
    "for i, p in enumerate(pokemon_list):\n",
    "    name_to_id[p.lower().strip()] = i+1"
   ]
  },
  {
   "cell_type": "code",
   "execution_count": 77,
   "metadata": {},
   "outputs": [
    {
     "name": "stdout",
     "output_type": "stream",
     "text": [
      "{'name': 'Mew', 'type': 'Psychic', 'legendary': False, 'color': 'Pink'}\n"
     ]
    }
   ],
   "source": [
    "import pandas as pd\n",
    "stats_df = pd.read_csv(\"pokemon_stats.csv\")\n",
    "poke_stats_map = dict()\n",
    "for p in name_to_id:\n",
    "    temp = dict()\n",
    "    temp[\"name\"] = stats_df.loc[[name_to_id[p]-1]][\"Name\"].to_string(index=False)\n",
    "    temp[\"type\"] = stats_df.loc[[name_to_id[p]-1]][\"Type_1\"].to_string(index=False)\n",
    "    temp[\"legendary\"] = stats_df.loc[[name_to_id[p]-1]][\"isLegendary\"].to_string(index=False) == \"True\"\n",
    "    temp[\"color\"] = stats_df.loc[[name_to_id[p]-1]][\"Color\"].to_string(index=False)\n",
    "    poke_stats_map[p] = temp\n",
    "print(poke_stats_map[\"mew\"])"
   ]
  },
  {
   "cell_type": "code",
   "execution_count": 92,
   "metadata": {},
   "outputs": [],
   "source": [
    "qa_map_train = list()\n",
    "qa_map_test = list()\n",
    "for data in pairs_to_image_map:\n",
    "    qid = -1\n",
    "    wp = list(set(what_pokemon))\n",
    "    for q in wp[:-1]:\n",
    "        qid += 1\n",
    "        qa_map_train.append({\"question\": q, \"answer\": data[\"pokemon\"].lower(), \"image_id\": data[\"image_id\"], \"ques_id\": qid})\n",
    "    for q in wp[-1:]:\n",
    "        qid += 1\n",
    "        qa_map_test.append({\"question\": q, \"answer\": data[\"pokemon\"].lower(), \"image_id\": data[\"image_id\"], \"ques_id\": qid})\n",
    "\n",
    "    wa = list(set(what_attack))\n",
    "    for q in wa[:-2]:\n",
    "        qid += 1\n",
    "        qa_map_train.append({\"question\": q, \"answer\": data[\"attack\"].lower(), \"image_id\": data[\"image_id\"], \"ques_id\": qid})\n",
    "    for q in wa[-2:]:\n",
    "        qid += 1\n",
    "        qa_map_test.append({\"question\": q, \"answer\": data[\"attack\"].lower(), \"image_id\": data[\"image_id\"], \"ques_id\": qid})\n",
    "    \n",
    "    wt = list(set(what_type))\n",
    "    for q in wt[:-1]:\n",
    "        qid += 1\n",
    "        qa_map_train.append({\"question\": q, \"answer\": poke_stats_map[data[\"pokemon\"].lower()][\"type\"], \"image_id\": data[\"image_id\"], \"ques_id\": qid})\n",
    "    for q in wt[-1:]:\n",
    "        qid += 1\n",
    "        qa_map_test.append({\"question\": q, \"answer\": poke_stats_map[data[\"pokemon\"].lower()][\"type\"], \"image_id\": data[\"image_id\"], \"ques_id\": qid})\n",
    "\n",
    "    il = list(set(is_legendary))\n",
    "    for q in il[:-1]:\n",
    "        qid += 1\n",
    "        qa_map_train.append({\"question\": q, \"answer\": poke_stats_map[data[\"pokemon\"].lower()][\"legendary\"], \"image_id\": data[\"image_id\"], \"ques_id\": qid})\n",
    "    for q in il[-1:]:\n",
    "        qid += 1\n",
    "        qa_map_test.append({\"question\": q, \"answer\": poke_stats_map[data[\"pokemon\"].lower()][\"legendary\"], \"image_id\": data[\"image_id\"], \"ques_id\": qid})\n",
    "\n",
    "    wc = list(set(what_colour))\n",
    "    for q in wc[:-1]:\n",
    "        qid += 1\n",
    "        qa_map_train.append({\"question\": q, \"answer\": poke_stats_map[data[\"pokemon\"].lower()][\"color\"], \"image_id\": data[\"image_id\"], \"ques_id\": qid})\n",
    "    for q in wc[-1:]:\n",
    "        qid += 1\n",
    "        qa_map_test.append({\"question\": q, \"answer\": poke_stats_map[data[\"pokemon\"].lower()][\"color\"], \"image_id\": data[\"image_id\"], \"ques_id\": qid})"
   ]
  },
  {
   "cell_type": "code",
   "execution_count": 93,
   "metadata": {},
   "outputs": [
    {
     "data": {
      "text/plain": [
       "[{'question': 'Can you tell what pokemon you see in this picture',\n",
       "  'answer': 'ditto',\n",
       "  'image_id': 10355,\n",
       "  'ques_id': 3},\n",
       " {'question': 'What attack is being performed by the pokemon',\n",
       "  'answer': 'transform',\n",
       "  'image_id': 10355,\n",
       "  'ques_id': 7},\n",
       " {'question': 'The pokemon is performing which attack',\n",
       "  'answer': 'transform',\n",
       "  'image_id': 10355,\n",
       "  'ques_id': 8},\n",
       " {'question': 'The image contains what type of pokemon',\n",
       "  'answer': 'Normal',\n",
       "  'image_id': 10355,\n",
       "  'ques_id': 12},\n",
       " {'question': 'Is the pokemon legendary',\n",
       "  'answer': False,\n",
       "  'image_id': 10355,\n",
       "  'ques_id': 16},\n",
       " {'question': 'What color of pokemon can you spot in this picture',\n",
       "  'answer': 'Purple',\n",
       "  'image_id': 10355,\n",
       "  'ques_id': 20}]"
      ]
     },
     "execution_count": 93,
     "metadata": {},
     "output_type": "execute_result"
    }
   ],
   "source": [
    "[q for q in qa_map_train if q[\"image_id\"] == 10355]\n",
    "[q for q in qa_map_test if q[\"image_id\"] == 10355]"
   ]
  },
  {
   "cell_type": "code",
   "execution_count": 94,
   "metadata": {},
   "outputs": [],
   "source": [
    "# vqa_raw_train.json and vqa_raw_test.json\n",
    "# Format:\n",
    "# {\n",
    "#     \"ques_id\": image_id + qid,\n",
    "#     \"img_path\": path/image_id.jpg,\n",
    "#     \"question\": \"\",\n",
    "#     \"MC_ans\": [ans],\n",
    "#     \"ans\": \"\"\n",
    "# }"
   ]
  },
  {
   "cell_type": "code",
   "execution_count": 95,
   "metadata": {},
   "outputs": [],
   "source": [
    "vqa_raw_train = list()\n",
    "vqa_raw_test = list()\n",
    "\n",
    "for q_data in qa_map_train:\n",
    "    temp = dict()\n",
    "    temp[\"ques_id\"] = int(str(q_data[\"image_id\"]) + str(q_data[\"ques_id\"]))\n",
    "    temp[\"img_path\"] = \"battle_scenes/\" + str(q_data[\"image_id\"]) + \".jpg\"\n",
    "    temp[\"question\"] = q_data[\"question\"]\n",
    "    temp[\"MC_ans\"] = [q_data[\"answer\"]]*5\n",
    "    temp[\"ans\"] = q_data[\"answer\"]\n",
    "    vqa_raw_train.append(temp)\n",
    "\n",
    "for q_data in qa_map_test:\n",
    "    temp = dict()\n",
    "    temp[\"ques_id\"] = int(str(q_data[\"image_id\"]) + str(q_data[\"ques_id\"]))\n",
    "    temp[\"img_path\"] = \"battle_scenes/\" + str(q_data[\"image_id\"]) + \".jpg\"\n",
    "    temp[\"question\"] = q_data[\"question\"]\n",
    "    temp[\"MC_ans\"] = [q_data[\"answer\"]]*5\n",
    "    temp[\"ans\"] = q_data[\"answer\"]\n",
    "    vqa_raw_test.append(temp)"
   ]
  },
  {
   "cell_type": "code",
   "execution_count": 96,
   "metadata": {},
   "outputs": [
    {
     "name": "stdout",
     "output_type": "stream",
     "text": [
      "{'ques_id': 100003, 'img_path': 'battle_scenes/10000.jpg', 'question': 'Can you tell what pokemon you see in this picture', 'MC_ans': ['parasect', 'parasect', 'parasect', 'parasect', 'parasect'], 'ans': 'parasect'}\n"
     ]
    }
   ],
   "source": [
    "print(vqa_raw_test[0])"
   ]
  },
  {
   "cell_type": "code",
   "execution_count": 97,
   "metadata": {},
   "outputs": [
    {
     "name": "stdout",
     "output_type": "stream",
     "text": [
      "304\n"
     ]
    }
   ],
   "source": [
    "# total classes/ans in our system\n",
    "a = set([i[\"ans\"]for i in vqa_raw_test])\n",
    "b = set([i[\"ans\"]for i in vqa_raw_train])\n",
    "print(len(set(a.union(b))))"
   ]
  },
  {
   "cell_type": "code",
   "execution_count": 98,
   "metadata": {},
   "outputs": [],
   "source": [
    "import json\n",
    "with open('data/vqa_raw_train.json', 'w') as outfile:\n",
    "    json.dump(vqa_raw_train, outfile)\n",
    "\n",
    "with open('data/vqa_raw_test.json', 'w') as outfile:\n",
    "    json.dump(vqa_raw_test, outfile)"
   ]
  },
  {
   "cell_type": "code",
   "execution_count": 89,
   "metadata": {},
   "outputs": [],
   "source": [
    "# params.json OR use neural-vqa-attention/prepro.py\n",
    "# python prepro.py --input_train_json vqa_raw_train.json --input_test_json vqa_raw_test.json --num_ans 304\n",
    "# params = dict()\n",
    "# params[\"unique_img_train\"] = list()\n",
    "# for d in vqa_raw_train:\n",
    "#     params[\"unique_img_train\"].append(d[\"img_path\"])\n",
    "# params[\"unique_img_test\"] = list()\n",
    "# for d in vqa_raw_train:\n",
    "#     params[\"unique_img_test\"].append(d[\"img_path\"])\n",
    "\n",
    "# with open('data/params.json', 'w') as outfile:\n",
    "#     json.dump(params, outfile)"
   ]
  },
  {
   "cell_type": "code",
   "execution_count": 100,
   "metadata": {},
   "outputs": [],
   "source": [
    "# questions and validation\n",
    "# annotations.json\n",
    "data = dict()\n",
    "data[\"annotations\"] = list()\n",
    "for qa in (vqa_raw_train + vqa_raw_test):\n",
    "    data[\"annotations\"].append({\"multiple_choice_answer\": qa[\"ans\"], \"question_id\": qa[\"ques_id\"], \"image_id\": qa[\"img_path\"]})\n",
    "with open('data/annotations.json', 'w') as outfile:\n",
    "    json.dump(data, outfile)\n",
    "\n",
    "# questions.json\n",
    "data = dict()\n",
    "data[\"questions\"] = list()\n",
    "for qa in (vqa_raw_train + vqa_raw_test):\n",
    "    data[\"questions\"].append({\"question\": qa[\"question\"], \"question_id\": qa[\"ques_id\"], \"image_id\": qa[\"img_path\"]})\n",
    "with open('data/questions.json', 'w') as outfile:\n",
    "    json.dump(data, outfile)"
   ]
  },
  {
   "cell_type": "code",
   "execution_count": null,
   "metadata": {},
   "outputs": [],
   "source": []
  },
  {
   "cell_type": "code",
   "execution_count": 119,
   "metadata": {},
   "outputs": [
    {
     "name": "stdout",
     "output_type": "stream",
     "text": [
      "65.90558129274211\n"
     ]
    }
   ],
   "source": [
    "results = json.load(open(\"results/results_best.json\", \"r\"))\n",
    "qa_map = dict()\n",
    "for i in vqa_raw_test:\n",
    "    qa_map[i[\"ques_id\"]] = i\n",
    "\n",
    "c = 0\n",
    "for result in results:\n",
    "    if qa_map[result[\"question_id\"]][\"ans\"] == result[\"answer\"]:\n",
    "        c+=1\n",
    "print((c/len(results))*100)"
   ]
  },
  {
   "cell_type": "code",
   "execution_count": 125,
   "metadata": {},
   "outputs": [],
   "source": [
    "# For generating img_train.h5 and img_test.h5\n",
    "# Steps\n",
    "# instance creation - get gpus\n",
    "# after that run the instance and install the nvidia driver\n",
    "# pull the docker and run it, install luarocks and loadcaffe after which you will be able to generate the image features\n",
    "# once you get the image features, put them in the same directlry as the preprocessed sata obtained from prepro.py \n",
    "# install rnn from luarocks\n",
    "# run the training after setting the batch size, iterations and checkpoints"
   ]
  },
  {
   "cell_type": "code",
   "execution_count": 126,
   "metadata": {},
   "outputs": [],
   "source": [
    "# 0. /opt/deeplearning/install-driver.sh\n",
    "# 1. nvidia-docker run -it --rm --name lua-env -v /home/jupyter:/root chaneyk/torch-cuda9:latest-gpu /bin/bash\n",
    "# 2. apt-get install libprotobuf-dev protobuf-compiler\n",
    "# 3. luarocks install loadcaffe (rnn in case of rnn)\n",
    "# 4. th prepro_img.lua -input_json params.json -image_root ./ -gpuid 0"
   ]
  },
  {
   "cell_type": "code",
   "execution_count": 121,
   "metadata": {},
   "outputs": [],
   "source": [
    "# sh scripts/download_vgg19.sh"
   ]
  },
  {
   "cell_type": "code",
   "execution_count": 122,
   "metadata": {},
   "outputs": [],
   "source": [
    "# th prepro_img.lua -image_root /path/to/coco/images/ -gpuid 0"
   ]
  },
  {
   "cell_type": "code",
   "execution_count": 123,
   "metadata": {},
   "outputs": [],
   "source": [
    "# th train.lua"
   ]
  },
  {
   "cell_type": "code",
   "execution_count": 124,
   "metadata": {},
   "outputs": [],
   "source": [
    "# model_path=checkpoints/<time_stamp>/iter_800.t7 qa_h5=data/qa.h5 params_json=data/params.json img_test_h5=data/img_test.h5 th eval.lua"
   ]
  },
  {
   "cell_type": "code",
   "execution_count": null,
   "metadata": {},
   "outputs": [],
   "source": []
  }
 ],
 "metadata": {
  "kernelspec": {
   "display_name": "Python 3",
   "language": "python",
   "name": "python3"
  },
  "language_info": {
   "codemirror_mode": {
    "name": "ipython",
    "version": 3
   },
   "file_extension": ".py",
   "mimetype": "text/x-python",
   "name": "python",
   "nbconvert_exporter": "python",
   "pygments_lexer": "ipython3",
   "version": "3.6.5"
  }
 },
 "nbformat": 4,
 "nbformat_minor": 2
}
